{
 "cells": [
  {
   "cell_type": "code",
   "execution_count": 1,
   "metadata": {},
   "outputs": [],
   "source": [
    "import oci\n",
    "\n",
    "config = oci.config.from_file()\n",
    "vision_client = oci.ai_vision.ai_service_vision_client.AIServiceVisionClient(config=config)"
   ]
  },
  {
   "cell_type": "code",
   "execution_count": 3,
   "metadata": {},
   "outputs": [],
   "source": [
    "LEMON_CLASSIFICATION_CUSTOM_MODEL_OCID = 'ocid1.aivisionmodel.oc1.ap-tokyo-1.amaaaaaassl65iqahrasz4giopfphuesvzh2uhiyj3d6gq7h4b5mdqazwvpq'\n",
    "\n",
    "COMPARTMENT_ID = 'ocid1.compartment.oc1..aaaaaaaayatfru3fd6vp6zwjj4vfiy4a5qv7l5dnyrdlnhvjkfaeuz5siyfa'\n",
    "NAMESPACE_NAME = 'orasejapan'\n",
    "BUCKET_NAME = 'lemon-quality-test-data'\n",
    "BAD_QUALITY_IMAGE = 'image01.jpg'\n",
    "GOOD_QUALITY_IMAGE = 'image02.jpeg'"
   ]
  },
  {
   "cell_type": "code",
   "execution_count": 4,
   "metadata": {},
   "outputs": [],
   "source": [
    "analyze_image_details = oci.ai_vision.models.AnalyzeImageDetails(\n",
    "    features = [\n",
    "        oci.ai_vision.models.ImageClassificationFeature(\n",
    "            feature_type = 'IMAGE_CLASSIFICATION',\n",
    "            model_id = LEMON_CLASSIFICATION_CUSTOM_MODEL_OCID\n",
    "        )\n",
    "    ],\n",
    "    image = oci.ai_vision.models.ObjectStorageImageDetails(\n",
    "        source = 'OBJECT_STORAGE',\n",
    "        namespace_name = NAMESPACE_NAME,\n",
    "        bucket_name = BUCKET_NAME,\n",
    "        object_name = BAD_QUALITY_IMAGE\n",
    "    ),\n",
    "    compartment_id = COMPARTMENT_ID\n",
    ")"
   ]
  },
  {
   "cell_type": "code",
   "execution_count": 5,
   "metadata": {},
   "outputs": [
    {
     "name": "stdout",
     "output_type": "stream",
     "text": [
      "{\n",
      "  \"errors\": [],\n",
      "  \"image_classification_model_version\": \"version\",\n",
      "  \"image_objects\": null,\n",
      "  \"image_text\": null,\n",
      "  \"labels\": [\n",
      "    {\n",
      "      \"confidence\": 0.9784123,\n",
      "      \"name\": \"bad_quality\"\n",
      "    },\n",
      "    {\n",
      "      \"confidence\": 0.019749818,\n",
      "      \"name\": \"good_quality\"\n",
      "    },\n",
      "    {\n",
      "      \"confidence\": 0.0018379617,\n",
      "      \"name\": \"empty_background\"\n",
      "    }\n",
      "  ],\n",
      "  \"object_detection_model_version\": null,\n",
      "  \"ontology_classes\": [\n",
      "    {\n",
      "      \"name\": \"bad_quality\",\n",
      "      \"parent_names\": [],\n",
      "      \"synonym_names\": []\n",
      "    },\n",
      "    {\n",
      "      \"name\": \"good_quality\",\n",
      "      \"parent_names\": [],\n",
      "      \"synonym_names\": []\n",
      "    },\n",
      "    {\n",
      "      \"name\": \"empty_background\",\n",
      "      \"parent_names\": [],\n",
      "      \"synonym_names\": []\n",
      "    }\n",
      "  ],\n",
      "  \"text_detection_model_version\": null\n",
      "}\n"
     ]
    }
   ],
   "source": [
    "analyze_image_result = vision_client.analyze_image(analyze_image_details=analyze_image_details)\n",
    "print(analyze_image_result.data)"
   ]
  }
 ],
 "metadata": {
  "kernelspec": {
   "display_name": "Python 3",
   "language": "python",
   "name": "python3"
  },
  "language_info": {
   "codemirror_mode": {
    "name": "ipython",
    "version": 3
   },
   "file_extension": ".py",
   "mimetype": "text/x-python",
   "name": "python",
   "nbconvert_exporter": "python",
   "pygments_lexer": "ipython3",
   "version": "3.10.12"
  },
  "orig_nbformat": 4
 },
 "nbformat": 4,
 "nbformat_minor": 2
}
